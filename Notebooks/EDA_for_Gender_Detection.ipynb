{
 "cells": [
  {
   "cell_type": "code",
   "execution_count": 2,
   "id": "0f85d8f1-ff70-4663-9cab-0119fa66b09f",
   "metadata": {},
   "outputs": [],
   "source": [
    "import pandas as pd"
   ]
  },
  {
   "cell_type": "code",
   "execution_count": 4,
   "id": "7a99ae8c-2db5-4288-8eda-fd02a34728cd",
   "metadata": {},
   "outputs": [],
   "source": [
    "df = pd.read_csv('/Users/bolade/My_GH_Projects/gender_detection/gender_detection.csv')"
   ]
  },
  {
   "cell_type": "code",
   "execution_count": 6,
   "id": "3a524734-a4a2-4e54-94a5-77c49731397f",
   "metadata": {},
   "outputs": [
    {
     "data": {
      "text/html": [
       "<div>\n",
       "<style scoped>\n",
       "    .dataframe tbody tr th:only-of-type {\n",
       "        vertical-align: middle;\n",
       "    }\n",
       "\n",
       "    .dataframe tbody tr th {\n",
       "        vertical-align: top;\n",
       "    }\n",
       "\n",
       "    .dataframe thead th {\n",
       "        text-align: right;\n",
       "    }\n",
       "</style>\n",
       "<table border=\"1\" class=\"dataframe\">\n",
       "  <thead>\n",
       "    <tr style=\"text-align: right;\">\n",
       "      <th></th>\n",
       "      <th>file</th>\n",
       "      <th>gender</th>\n",
       "      <th>split</th>\n",
       "    </tr>\n",
       "  </thead>\n",
       "  <tbody>\n",
       "    <tr>\n",
       "      <th>0</th>\n",
       "      <td>train/women/0.jpg</td>\n",
       "      <td>woman</td>\n",
       "      <td>train</td>\n",
       "    </tr>\n",
       "    <tr>\n",
       "      <th>1</th>\n",
       "      <td>train/women/1.jpg</td>\n",
       "      <td>woman</td>\n",
       "      <td>train</td>\n",
       "    </tr>\n",
       "    <tr>\n",
       "      <th>2</th>\n",
       "      <td>train/women/2.jpg</td>\n",
       "      <td>woman</td>\n",
       "      <td>train</td>\n",
       "    </tr>\n",
       "    <tr>\n",
       "      <th>3</th>\n",
       "      <td>train/women/3.jpg</td>\n",
       "      <td>woman</td>\n",
       "      <td>train</td>\n",
       "    </tr>\n",
       "    <tr>\n",
       "      <th>4</th>\n",
       "      <td>train/women/4.jpg</td>\n",
       "      <td>woman</td>\n",
       "      <td>train</td>\n",
       "    </tr>\n",
       "  </tbody>\n",
       "</table>\n",
       "</div>"
      ],
      "text/plain": [
       "                file gender  split\n",
       "0  train/women/0.jpg  woman  train\n",
       "1  train/women/1.jpg  woman  train\n",
       "2  train/women/2.jpg  woman  train\n",
       "3  train/women/3.jpg  woman  train\n",
       "4  train/women/4.jpg  woman  train"
      ]
     },
     "execution_count": 6,
     "metadata": {},
     "output_type": "execute_result"
    }
   ],
   "source": [
    "df.head()"
   ]
  },
  {
   "cell_type": "code",
   "execution_count": 8,
   "id": "2699807d-da26-441d-a16d-4b703787e27d",
   "metadata": {},
   "outputs": [
    {
     "data": {
      "text/plain": [
       "file      train/women/0.jpgtrain/women/1.jpgtrain/women/...\n",
       "gender    womanwomanwomanwomanwomanwomanwomanwomanwomanw...\n",
       "split     traintraintraintraintraintraintraintraintraint...\n",
       "dtype: object"
      ]
     },
     "execution_count": 8,
     "metadata": {},
     "output_type": "execute_result"
    }
   ],
   "source": [
    "df.sum()"
   ]
  },
  {
   "cell_type": "code",
   "execution_count": 10,
   "id": "98c26fbb-56fe-42a6-b2be-4cb1c9445e61",
   "metadata": {},
   "outputs": [
    {
     "data": {
      "text/html": [
       "<div>\n",
       "<style scoped>\n",
       "    .dataframe tbody tr th:only-of-type {\n",
       "        vertical-align: middle;\n",
       "    }\n",
       "\n",
       "    .dataframe tbody tr th {\n",
       "        vertical-align: top;\n",
       "    }\n",
       "\n",
       "    .dataframe thead th {\n",
       "        text-align: right;\n",
       "    }\n",
       "</style>\n",
       "<table border=\"1\" class=\"dataframe\">\n",
       "  <thead>\n",
       "    <tr style=\"text-align: right;\">\n",
       "      <th></th>\n",
       "      <th>file</th>\n",
       "      <th>gender</th>\n",
       "      <th>split</th>\n",
       "    </tr>\n",
       "  </thead>\n",
       "  <tbody>\n",
       "    <tr>\n",
       "      <th>count</th>\n",
       "      <td>300</td>\n",
       "      <td>300</td>\n",
       "      <td>300</td>\n",
       "    </tr>\n",
       "    <tr>\n",
       "      <th>unique</th>\n",
       "      <td>300</td>\n",
       "      <td>2</td>\n",
       "      <td>2</td>\n",
       "    </tr>\n",
       "    <tr>\n",
       "      <th>top</th>\n",
       "      <td>train/women/0.jpg</td>\n",
       "      <td>woman</td>\n",
       "      <td>train</td>\n",
       "    </tr>\n",
       "    <tr>\n",
       "      <th>freq</th>\n",
       "      <td>1</td>\n",
       "      <td>150</td>\n",
       "      <td>220</td>\n",
       "    </tr>\n",
       "  </tbody>\n",
       "</table>\n",
       "</div>"
      ],
      "text/plain": [
       "                     file gender  split\n",
       "count                 300    300    300\n",
       "unique                300      2      2\n",
       "top     train/women/0.jpg  woman  train\n",
       "freq                    1    150    220"
      ]
     },
     "execution_count": 10,
     "metadata": {},
     "output_type": "execute_result"
    }
   ],
   "source": [
    "df.describe()"
   ]
  },
  {
   "cell_type": "code",
   "execution_count": 14,
   "id": "be265747-5ec1-41e2-a598-8da841f9cfac",
   "metadata": {},
   "outputs": [
    {
     "data": {
      "text/plain": [
       "(300, 3)"
      ]
     },
     "execution_count": 14,
     "metadata": {},
     "output_type": "execute_result"
    }
   ],
   "source": [
    "df.shape"
   ]
  },
  {
   "cell_type": "code",
   "execution_count": 16,
   "id": "d6db48c5-66f0-49a1-81a1-2c9243fbf88c",
   "metadata": {},
   "outputs": [
    {
     "data": {
      "text/plain": [
       "['file', 'gender', 'split']"
      ]
     },
     "execution_count": 16,
     "metadata": {},
     "output_type": "execute_result"
    }
   ],
   "source": [
    "df.columns.tolist()"
   ]
  },
  {
   "cell_type": "code",
   "execution_count": 20,
   "id": "336095ee-ab91-406f-839e-85275d66c355",
   "metadata": {},
   "outputs": [],
   "source": [
    "import matplotlib.pyplot as plt"
   ]
  },
  {
   "cell_type": "code",
   "execution_count": 22,
   "id": "ae4a55dc-6f51-461e-b297-fd64a5821f07",
   "metadata": {},
   "outputs": [],
   "source": [
    "sns.set(style=\"whitegrid\")"
   ]
  },
  {
   "cell_type": "code",
   "execution_count": 24,
   "id": "2935c80c-6c10-4fe4-9740-62f575819010",
   "metadata": {},
   "outputs": [
    {
     "data": {
      "image/png": "[encoded data removed]",
      "text/plain": [
       "<Figure size 432x288 with 1 Axes>"
      ]
     },
     "metadata": {},
     "output_type": "display_data"
    }
   ],
   "source": [
    "# Plot 1: Gender Distribution Overall\n",
    "plt.figure(figsize=(6, 4))\n",
    "sns.countplot(data=df, x='gender', palette='Set2')\n",
    "plt.title(\"Overall Gender Distribution\")\n",
    "plt.xlabel(\"Gender\")\n",
    "plt.ylabel(\"Count\")\n",
    "plt.tight_layout()\n",
    "plt.show()"
   ]
  },
  {
   "cell_type": "code",
   "execution_count": 26,
   "id": "b3ebeb76-2d05-4839-b732-d98db89fdd51",
   "metadata": {},
   "outputs": [
    {
     "data": {
      "image/png": "[encoded data removed]",
      "text/plain": [
       "<Figure size 576x360 with 1 Axes>"
      ]
     },
     "metadata": {},
     "output_type": "display_data"
    }
   ],
   "source": [
    "# Plot 2: Gender Distribution by Split\n",
    "plt.figure(figsize=(8, 5))\n",
    "sns.countplot(data=df, x='split', hue='gender', palette='Set1')\n",
    "plt.title(\"Gender Distribution by Data Split\")\n",
    "plt.xlabel(\"Data Split\")\n",
    "plt.ylabel(\"Count\")\n",
    "plt.legend(title=\"Gender\")\n",
    "plt.tight_layout()\n",
    "plt.show()"
   ]
  },
  {
   "cell_type": "code",
   "execution_count": 28,
   "id": "fb59d520-363c-461c-a422-e5938241014a",
   "metadata": {},
   "outputs": [],
   "source": [
    "# Deeper EDA: Group by Split and Gender\n",
    "gender_split_counts = df.groupby(['split', 'gender']).size().unstack()"
   ]
  },
  {
   "cell_type": "code",
   "execution_count": 30,
   "id": "d7ad053b-fd51-4d26-9fe2-233eeee0efb6",
   "metadata": {},
   "outputs": [],
   "source": [
    "# Gender Proportion per Split\n",
    "gender_proportions = gender_split_counts.div(gender_split_counts.sum(axis=1), axis=0)"
   ]
  },
  {
   "cell_type": "code",
   "execution_count": 32,
   "id": "dd560019-1bea-43f8-87fb-a94bf03b0551",
   "metadata": {},
   "outputs": [
    {
     "data": {
      "image/png": "[encoded data removed]",
      "text/plain": [
       "<Figure size 1008x360 with 2 Axes>"
      ]
     },
     "metadata": {},
     "output_type": "display_data"
    }
   ],
   "source": [
    "# Visualize group counts\n",
    "fig, axes = plt.subplots(1, 2, figsize=(14, 5))"
   ]
  },
  {
   "cell_type": "code",
   "execution_count": 34,
   "id": "d9292b89-8436-41a5-a45c-5ece68d846cd",
   "metadata": {},
   "outputs": [
    {
     "data": {
      "text/plain": [
       "Text(102.5, 0.5, 'Split')"
      ]
     },
     "execution_count": 34,
     "metadata": {},
     "output_type": "execute_result"
    }
   ],
   "source": [
    "# Count heatmap\n",
    "sns.heatmap(gender_split_counts, annot=True, fmt='d', cmap='YlGnBu', ax=axes[0])\n",
    "axes[0].set_title('Gender Count by Split')\n",
    "axes[0].set_xlabel('Gender')\n",
    "axes[0].set_ylabel('Split')"
   ]
  },
  {
   "cell_type": "code",
   "execution_count": 36,
   "id": "14ee8291-29eb-4cd4-bf93-4f0e066c64e8",
   "metadata": {},
   "outputs": [
    {
     "data": {
      "text/plain": [
       "Text(528.6090909090908, 0.5, 'Split')"
      ]
     },
     "execution_count": 36,
     "metadata": {},
     "output_type": "execute_result"
    }
   ],
   "source": [
    "# Proportion heatmap\n",
    "sns.heatmap(gender_proportions, annot=True, fmt='.2f', cmap='YlOrBr', ax=axes[1])\n",
    "axes[1].set_title('Gender Proportion by Split')\n",
    "axes[1].set_xlabel('Gender')\n",
    "axes[1].set_ylabel('Split')"
   ]
  },
  {
   "cell_type": "code",
   "execution_count": 38,
   "id": "0c305e84-0962-4b35-b9d6-13a4969b70f7",
   "metadata": {},
   "outputs": [
    {
     "data": {
      "text/plain": [
       "<Figure size 432x288 with 0 Axes>"
      ]
     },
     "metadata": {},
     "output_type": "display_data"
    }
   ],
   "source": [
    "plt.tight_layout()\n",
    "plt.show()"
   ]
  },
  {
   "cell_type": "code",
   "execution_count": 40,
   "id": "b7c280db-7d99-49fa-9964-f4e469a65d5b",
   "metadata": {},
   "outputs": [],
   "source": [
    "import seaborn as sns"
   ]
  },
  {
   "cell_type": "code",
   "execution_count": 42,
   "id": "5daa73bd-91e8-49d9-83ff-109d11f6df65",
   "metadata": {},
   "outputs": [
    {
     "data": {
      "image/png": "[encoded data removed]",
      "text/plain": [
       "<Figure size 1008x360 with 4 Axes>"
      ]
     },
     "metadata": {},
     "output_type": "display_data"
    }
   ],
   "source": [
    "sns.set(style=\"whitegrid\")\n",
    "\n",
    "# Group by Split and Gender\n",
    "gender_split_counts = df.groupby(['split', 'gender']).size().unstack()\n",
    "\n",
    "# Gender Proportion per Split\n",
    "gender_proportions = gender_split_counts.div(gender_split_counts.sum(axis=1), axis=0)\n",
    "\n",
    "# Plot counts and proportions\n",
    "fig, axes = plt.subplots(1, 2, figsize=(14, 5))\n",
    "\n",
    "# Count heatmap\n",
    "sns.heatmap(gender_split_counts, annot=True, fmt='d', cmap='YlGnBu', ax=axes[0])\n",
    "axes[0].set_title('Gender Count by Split')\n",
    "axes[0].set_xlabel('Gender')\n",
    "axes[0].set_ylabel('Split')\n",
    "\n",
    "# Proportion heatmap\n",
    "sns.heatmap(gender_proportions, annot=True, fmt='.2f', cmap='YlOrBr', ax=axes[1])\n",
    "axes[1].set_title('Gender Proportion by Split')\n",
    "axes[1].set_xlabel('Gender')\n",
    "axes[1].set_ylabel('Split')\n",
    "\n",
    "plt.tight_layout()\n",
    "plt.show()"
   ]
  },
  {
   "cell_type": "code",
   "execution_count": null,
   "id": "ceaf2453-32ea-446d-badb-3be2071f255d",
   "metadata": {},
   "outputs": [],
   "source": []
  }
 ],
 "metadata": {
  "kernelspec": {
   "display_name": "Python [conda env:anaconda3]",
   "language": "python",
   "name": "conda-env-anaconda3-py"
  },
  "language_info": {
   "codemirror_mode": {
    "name": "ipython",
    "version": 3
   },
   "file_extension": ".py",
   "mimetype": "text/x-python",
   "name": "python",
   "nbconvert_exporter": "python",
   "pygments_lexer": "ipython3",
   "version": "3.9.7"
  }
 },
 "nbformat": 4,
 "nbformat_minor": 5
}
