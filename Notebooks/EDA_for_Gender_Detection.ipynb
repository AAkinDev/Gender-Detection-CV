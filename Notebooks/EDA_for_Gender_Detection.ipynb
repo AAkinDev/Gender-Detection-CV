{
 "cells": [
  {
   "cell_type": "code",
   "execution_count": 1,
   "id": "0f85d8f1-ff70-4663-9cab-0119fa66b09f",
   "metadata": {},
   "outputs": [],
   "source": [
    "import pandas as pd"
   ]
  },
  {
   "cell_type": "code",
   "execution_count": 3,
   "id": "7a99ae8c-2db5-4288-8eda-fd02a34728cd",
   "metadata": {},
   "outputs": [],
   "source": [
    "df = pd.read_csv('/Users/bolade/My_GH_Projects/gender_detection/gender_detection.csv')"
   ]
  },
  {
   "cell_type": "code",
   "execution_count": 5,
   "id": "3a524734-a4a2-4e54-94a5-77c49731397f",
   "metadata": {},
   "outputs": [
    {
     "data": {
      "text/html": [
       "<div>\n",
       "<style scoped>\n",
       "    .dataframe tbody tr th:only-of-type {\n",
       "        vertical-align: middle;\n",
       "    }\n",
       "\n",
       "    .dataframe tbody tr th {\n",
       "        vertical-align: top;\n",
       "    }\n",
       "\n",
       "    .dataframe thead th {\n",
       "        text-align: right;\n",
       "    }\n",
       "</style>\n",
       "<table border=\"1\" class=\"dataframe\">\n",
       "  <thead>\n",
       "    <tr style=\"text-align: right;\">\n",
       "      <th></th>\n",
       "      <th>file</th>\n",
       "      <th>gender</th>\n",
       "      <th>split</th>\n",
       "    </tr>\n",
       "  </thead>\n",
       "  <tbody>\n",
       "    <tr>\n",
       "      <th>0</th>\n",
       "      <td>train/women/0.jpg</td>\n",
       "      <td>woman</td>\n",
       "      <td>train</td>\n",
       "    </tr>\n",
       "    <tr>\n",
       "      <th>1</th>\n",
       "      <td>train/women/1.jpg</td>\n",
       "      <td>woman</td>\n",
       "      <td>train</td>\n",
       "    </tr>\n",
       "    <tr>\n",
       "      <th>2</th>\n",
       "      <td>train/women/2.jpg</td>\n",
       "      <td>woman</td>\n",
       "      <td>train</td>\n",
       "    </tr>\n",
       "    <tr>\n",
       "      <th>3</th>\n",
       "      <td>train/women/3.jpg</td>\n",
       "      <td>woman</td>\n",
       "      <td>train</td>\n",
       "    </tr>\n",
       "    <tr>\n",
       "      <th>4</th>\n",
       "      <td>train/women/4.jpg</td>\n",
       "      <td>woman</td>\n",
       "      <td>train</td>\n",
       "    </tr>\n",
       "  </tbody>\n",
       "</table>\n",
       "</div>"
      ],
      "text/plain": [
       "                file gender  split\n",
       "0  train/women/0.jpg  woman  train\n",
       "1  train/women/1.jpg  woman  train\n",
       "2  train/women/2.jpg  woman  train\n",
       "3  train/women/3.jpg  woman  train\n",
       "4  train/women/4.jpg  woman  train"
      ]
     },
     "execution_count": 5,
     "metadata": {},
     "output_type": "execute_result"
    }
   ],
   "source": [
    "df.head()"
   ]
  },
  {
   "cell_type": "code",
   "execution_count": 7,
   "id": "2699807d-da26-441d-a16d-4b703787e27d",
   "metadata": {},
   "outputs": [
    {
     "data": {
      "text/plain": [
       "file      train/women/0.jpgtrain/women/1.jpgtrain/women/...\n",
       "gender    womanwomanwomanwomanwomanwomanwomanwomanwomanw...\n",
       "split     traintraintraintraintraintraintraintraintraint...\n",
       "dtype: object"
      ]
     },
     "execution_count": 7,
     "metadata": {},
     "output_type": "execute_result"
    }
   ],
   "source": [
    "df.sum()"
   ]
  },
  {
   "cell_type": "code",
   "execution_count": 9,
   "id": "98c26fbb-56fe-42a6-b2be-4cb1c9445e61",
   "metadata": {},
   "outputs": [
    {
     "data": {
      "text/html": [
       "<div>\n",
       "<style scoped>\n",
       "    .dataframe tbody tr th:only-of-type {\n",
       "        vertical-align: middle;\n",
       "    }\n",
       "\n",
       "    .dataframe tbody tr th {\n",
       "        vertical-align: top;\n",
       "    }\n",
       "\n",
       "    .dataframe thead th {\n",
       "        text-align: right;\n",
       "    }\n",
       "</style>\n",
       "<table border=\"1\" class=\"dataframe\">\n",
       "  <thead>\n",
       "    <tr style=\"text-align: right;\">\n",
       "      <th></th>\n",
       "      <th>file</th>\n",
       "      <th>gender</th>\n",
       "      <th>split</th>\n",
       "    </tr>\n",
       "  </thead>\n",
       "  <tbody>\n",
       "    <tr>\n",
       "      <th>count</th>\n",
       "      <td>300</td>\n",
       "      <td>300</td>\n",
       "      <td>300</td>\n",
       "    </tr>\n",
       "    <tr>\n",
       "      <th>unique</th>\n",
       "      <td>300</td>\n",
       "      <td>2</td>\n",
       "      <td>2</td>\n",
       "    </tr>\n",
       "    <tr>\n",
       "      <th>top</th>\n",
       "      <td>train/women/0.jpg</td>\n",
       "      <td>woman</td>\n",
       "      <td>train</td>\n",
       "    </tr>\n",
       "    <tr>\n",
       "      <th>freq</th>\n",
       "      <td>1</td>\n",
       "      <td>150</td>\n",
       "      <td>220</td>\n",
       "    </tr>\n",
       "  </tbody>\n",
       "</table>\n",
       "</div>"
      ],
      "text/plain": [
       "                     file gender  split\n",
       "count                 300    300    300\n",
       "unique                300      2      2\n",
       "top     train/women/0.jpg  woman  train\n",
       "freq                    1    150    220"
      ]
     },
     "execution_count": 9,
     "metadata": {},
     "output_type": "execute_result"
    }
   ],
   "source": [
    "df.describe()"
   ]
  },
  {
   "cell_type": "code",
   "execution_count": 11,
   "id": "be265747-5ec1-41e2-a598-8da841f9cfac",
   "metadata": {},
   "outputs": [
    {
     "data": {
      "text/plain": [
       "(300, 3)"
      ]
     },
     "execution_count": 11,
     "metadata": {},
     "output_type": "execute_result"
    }
   ],
   "source": [
    "df.shape"
   ]
  },
  {
   "cell_type": "code",
   "execution_count": 13,
   "id": "d6db48c5-66f0-49a1-81a1-2c9243fbf88c",
   "metadata": {},
   "outputs": [
    {
     "data": {
      "text/plain": [
       "['file', 'gender', 'split']"
      ]
     },
     "execution_count": 13,
     "metadata": {},
     "output_type": "execute_result"
    }
   ],
   "source": [
    "df.columns.tolist()"
   ]
  },
  {
   "cell_type": "code",
   "execution_count": 15,
   "id": "336095ee-ab91-406f-839e-85275d66c355",
   "metadata": {},
   "outputs": [],
   "source": [
    "import matplotlib.pyplot as plt"
   ]
  },
  {
   "cell_type": "code",
   "execution_count": 41,
   "id": "43224aaa-00ae-4260-ab5c-fba1b96b710c",
   "metadata": {},
   "outputs": [
    {
     "name": "stdout",
     "output_type": "stream",
     "text": [
      "Requirement already satisfied: seaborn in /Users/bolade/opt/anaconda3/lib/python3.9/site-packages (0.11.2)\n",
      "Collecting seaborn\n",
      "  Downloading seaborn-0.13.2-py3-none-any.whl (294 kB)\n",
      "\u001b[K     |████████████████████████████████| 294 kB 3.2 MB/s eta 0:00:01\n",
      "\u001b[?25hRequirement already satisfied: pandas>=1.2 in /Users/bolade/opt/anaconda3/lib/python3.9/site-packages (from seaborn) (1.3.4)\n",
      "Requirement already satisfied: numpy!=1.24.0,>=1.20 in /Users/bolade/opt/anaconda3/lib/python3.9/site-packages (from seaborn) (1.22.4)\n",
      "Requirement already satisfied: matplotlib!=3.6.1,>=3.4 in /Users/bolade/opt/anaconda3/lib/python3.9/site-packages (from seaborn) (3.4.3)\n",
      "Requirement already satisfied: cycler>=0.10 in /Users/bolade/opt/anaconda3/lib/python3.9/site-packages (from matplotlib!=3.6.1,>=3.4->seaborn) (0.10.0)\n",
      "Requirement already satisfied: pyparsing>=2.2.1 in /Users/bolade/opt/anaconda3/lib/python3.9/site-packages (from matplotlib!=3.6.1,>=3.4->seaborn) (3.0.4)\n",
      "Requirement already satisfied: kiwisolver>=1.0.1 in /Users/bolade/opt/anaconda3/lib/python3.9/site-packages (from matplotlib!=3.6.1,>=3.4->seaborn) (1.3.1)\n",
      "Requirement already satisfied: pillow>=6.2.0 in /Users/bolade/opt/anaconda3/lib/python3.9/site-packages (from matplotlib!=3.6.1,>=3.4->seaborn) (8.4.0)\n",
      "Requirement already satisfied: python-dateutil>=2.7 in /Users/bolade/opt/anaconda3/lib/python3.9/site-packages (from matplotlib!=3.6.1,>=3.4->seaborn) (2.8.2)\n",
      "Requirement already satisfied: six in /Users/bolade/opt/anaconda3/lib/python3.9/site-packages (from cycler>=0.10->matplotlib!=3.6.1,>=3.4->seaborn) (1.16.0)\n",
      "Requirement already satisfied: pytz>=2017.3 in /Users/bolade/opt/anaconda3/lib/python3.9/site-packages (from pandas>=1.2->seaborn) (2021.3)\n",
      "Installing collected packages: seaborn\n",
      "  Attempting uninstall: seaborn\n",
      "    Found existing installation: seaborn 0.11.2\n",
      "    Uninstalling seaborn-0.11.2:\n",
      "      Successfully uninstalled seaborn-0.11.2\n",
      "Successfully installed seaborn-0.13.2\n"
     ]
    }
   ],
   "source": [
    "!pip install seaborn --upgrade"
   ]
  },
  {
   "cell_type": "code",
   "execution_count": 43,
   "id": "ae4a55dc-6f51-461e-b297-fd64a5821f07",
   "metadata": {},
   "outputs": [],
   "source": [
    "import seaborn as sns\n",
    "sns.set(style=\"whitegrid\")"
   ]
  },
  {
   "cell_type": "code",
   "execution_count": 45,
   "id": "2935c80c-6c10-4fe4-9740-62f575819010",
   "metadata": {},
   "outputs": [
    {
     "data": {
      "image/png": "[encoded data removed]",
      "text/plain": [
       "<Figure size 432x288 with 1 Axes>"
      ]
     },
     "metadata": {},
     "output_type": "display_data"
    }
   ],
   "source": [
    "# Plot 1: Gender Distribution Overall\n",
    "plt.figure(figsize=(6, 4))\n",
    "sns.countplot(data=df, x='gender', palette='Set2')\n",
    "plt.title(\"Overall Gender Distribution\")\n",
    "plt.xlabel(\"Gender\")\n",
    "plt.ylabel(\"Count\")\n",
    "plt.tight_layout()\n",
    "plt.show()"
   ]
  },
  {
   "cell_type": "code",
   "execution_count": 47,
   "id": "b3ebeb76-2d05-4839-b732-d98db89fdd51",
   "metadata": {},
   "outputs": [
    {
     "data": {
      "image/png": "[encoded data removed]",
      "text/plain": [
       "<Figure size 576x360 with 1 Axes>"
      ]
     },
     "metadata": {},
     "output_type": "display_data"
    }
   ],
   "source": [
    "# Plot 2: Gender Distribution by Split\n",
    "plt.figure(figsize=(8, 5))\n",
    "sns.countplot(data=df, x='split', hue='gender', palette='Set1')\n",
    "plt.title(\"Gender Distribution by Data Split\")\n",
    "plt.xlabel(\"Data Split\")\n",
    "plt.ylabel(\"Count\")\n",
    "plt.legend(title=\"Gender\")\n",
    "plt.tight_layout()\n",
    "plt.show()"
   ]
  },
  {
   "cell_type": "code",
   "execution_count": 49,
   "id": "fb59d520-363c-461c-a422-e5938241014a",
   "metadata": {},
   "outputs": [],
   "source": [
    "# Deeper EDA: Group by Split and Gender\n",
    "gender_split_counts = df.groupby(['split', 'gender']).size().unstack()"
   ]
  },
  {
   "cell_type": "code",
   "execution_count": 51,
   "id": "d7ad053b-fd51-4d26-9fe2-233eeee0efb6",
   "metadata": {},
   "outputs": [],
   "source": [
    "# Gender Proportion per Split\n",
    "gender_proportions = gender_split_counts.div(gender_split_counts.sum(axis=1), axis=0)"
   ]
  },
  {
   "cell_type": "code",
   "execution_count": 53,
   "id": "dd560019-1bea-43f8-87fb-a94bf03b0551",
   "metadata": {},
   "outputs": [
    {
     "data": {
      "image/png": "[encoded data removed]",
      "text/plain": [
       "<Figure size 1008x360 with 2 Axes>"
      ]
     },
     "metadata": {},
     "output_type": "display_data"
    }
   ],
   "source": [
    "# Visualize group counts\n",
    "fig, axes = plt.subplots(1, 2, figsize=(14, 5))"
   ]
  },
  {
   "cell_type": "code",
   "execution_count": 55,
   "id": "d9292b89-8436-41a5-a45c-5ece68d846cd",
   "metadata": {},
   "outputs": [
    {
     "data": {
      "text/plain": [
       "Text(102.5, 0.5, 'Split')"
      ]
     },
     "execution_count": 55,
     "metadata": {},
     "output_type": "execute_result"
    }
   ],
   "source": [
    "# Count heatmap\n",
    "sns.heatmap(gender_split_counts, annot=True, fmt='d', cmap='YlGnBu', ax=axes[0])\n",
    "axes[0].set_title('Gender Count by Split')\n",
    "axes[0].set_xlabel('Gender')\n",
    "axes[0].set_ylabel('Split')"
   ]
  },
  {
   "cell_type": "code",
   "execution_count": 57,
   "id": "14ee8291-29eb-4cd4-bf93-4f0e066c64e8",
   "metadata": {},
   "outputs": [
    {
     "data": {
      "text/plain": [
       "Text(528.6090909090908, 0.5, 'Split')"
      ]
     },
     "execution_count": 57,
     "metadata": {},
     "output_type": "execute_result"
    }
   ],
   "source": [
    "# Proportion heatmap\n",
    "sns.heatmap(gender_proportions, annot=True, fmt='.2f', cmap='YlOrBr', ax=axes[1])\n",
    "axes[1].set_title('Gender Proportion by Split')\n",
    "axes[1].set_xlabel('Gender')\n",
    "axes[1].set_ylabel('Split')"
   ]
  },
  {
   "cell_type": "code",
   "execution_count": 59,
   "id": "0c305e84-0962-4b35-b9d6-13a4969b70f7",
   "metadata": {},
   "outputs": [
    {
     "data": {
      "text/plain": [
       "<Figure size 432x288 with 0 Axes>"
      ]
     },
     "metadata": {},
     "output_type": "display_data"
    }
   ],
   "source": [
    "plt.tight_layout()\n",
    "plt.show()"
   ]
  },
  {
   "cell_type": "code",
   "execution_count": 61,
   "id": "5daa73bd-91e8-49d9-83ff-109d11f6df65",
   "metadata": {},
   "outputs": [
    {
     "data": {
      "image/png": "[encoded data removed]",
      "text/plain": [
       "<Figure size 1008x360 with 4 Axes>"
      ]
     },
     "metadata": {},
     "output_type": "display_data"
    }
   ],
   "source": [
    "sns.set(style=\"whitegrid\")\n",
    "\n",
    "# Group by Split and Gender\n",
    "gender_split_counts = df.groupby(['split', 'gender']).size().unstack()\n",
    "\n",
    "# Gender Proportion per Split\n",
    "gender_proportions = gender_split_counts.div(gender_split_counts.sum(axis=1), axis=0)\n",
    "\n",
    "# Plot counts and proportions\n",
    "fig, axes = plt.subplots(1, 2, figsize=(14, 5))\n",
    "\n",
    "# Count heatmap\n",
    "sns.heatmap(gender_split_counts, annot=True, fmt='d', cmap='YlGnBu', ax=axes[0])\n",
    "axes[0].set_title('Gender Count by Split')\n",
    "axes[0].set_xlabel('Gender')\n",
    "axes[0].set_ylabel('Split')\n",
    "\n",
    "# Proportion heatmap\n",
    "sns.heatmap(gender_proportions, annot=True, fmt='.2f', cmap='YlOrBr', ax=axes[1])\n",
    "axes[1].set_title('Gender Proportion by Split')\n",
    "axes[1].set_xlabel('Gender')\n",
    "axes[1].set_ylabel('Split')\n",
    "\n",
    "plt.tight_layout()\n",
    "plt.show()"
   ]
  },
  {
   "cell_type": "markdown",
   "id": "04f25955-6343-400b-bf04-4aa7d02f0fa7",
   "metadata": {},
   "source": [
    "## Phase 2.1: Data Understanding "
   ]
  },
  {
   "cell_type": "code",
   "execution_count": 80,
   "id": "708ee568-50e3-4e2a-b1b6-86f4386ff7cf",
   "metadata": {},
   "outputs": [],
   "source": [
    "import os\n",
    "import pandas as pd\n",
    "from PIL import Image, ImageStat"
   ]
  },
  {
   "cell_type": "code",
   "execution_count": 82,
   "id": "98f067f2-e146-434e-a370-332c2495f7cc",
   "metadata": {},
   "outputs": [],
   "source": [
    "# Setting Local Paths\n",
    "train_dir = \"/Users/bolade/My_GH_Projects/gender_detection/data/train\"\n",
    "test_dir = \"/Users/bolade/My_GH_Projects/gender_detection/data/test\""
   ]
  },
  {
   "cell_type": "code",
   "execution_count": 84,
   "id": "46c38868-aee3-4423-949b-c7acf0524004",
   "metadata": {},
   "outputs": [],
   "source": [
    "# Define function to collect image stats\n",
    "def collect_image_statistics(data_dir):\n",
    "    stats = []\n",
    "    for gender_folder in os.listdir(data_dir):\n",
    "        gender_path = os.path.join(data_dir, gender_folder)\n",
    "        if os.path.isdir(gender_path):\n",
    "            for filename in os.listdir(gender_path):\n",
    "                file_path = os.path.join(gender_path, filename)\n",
    "                try:\n",
    "                    with Image.open(file_path) as img:\n",
    "                        stat = ImageStat.Stat(img.convert('L'))  # grayscale\n",
    "                        brightness = stat.mean[0]\n",
    "                        contrast = stat.stddev[0]\n",
    "                        stats.append({\n",
    "                            \"gender\": gender_folder,\n",
    "                            \"file\": file_path,\n",
    "                            \"format\": img.format,\n",
    "                            \"size\": img.size,\n",
    "                            \"mode\": img.mode,\n",
    "                            \"brightness\": brightness,\n",
    "                            \"contrast\": contrast\n",
    "                        })\n",
    "                except Exception as e:\n",
    "                    stats.append({\n",
    "                        \"gender\": gender_folder,\n",
    "                        \"file\": file_path,\n",
    "                        \"format\": None,\n",
    "                        \"size\": None,\n",
    "                        \"mode\": None,\n",
    "                        \"brightness\": None,\n",
    "                        \"contrast\": None,\n",
    "                        \"error\": str(e)\n",
    "                    })\n",
    "    return pd.DataFrame(stats)"
   ]
  },
  {
   "cell_type": "code",
   "execution_count": 86,
   "id": "54e18a3f-a633-452a-8a9c-298344573472",
   "metadata": {},
   "outputs": [],
   "source": [
    "# Run for both sets\n",
    "train_df = collect_image_statistics(train_dir)\n",
    "test_df = collect_image_statistics(test_dir)"
   ]
  },
  {
   "cell_type": "code",
   "execution_count": 87,
   "id": "afec5796-e113-4ba8-9629-071548d81b2c",
   "metadata": {},
   "outputs": [],
   "source": [
    "# Combine into one DataFrame\n",
    "image_stats_df = pd.concat([train_df, test_df], ignore_index=True)"
   ]
  },
  {
   "cell_type": "markdown",
   "id": "4574f8d7-517d-4e2a-84f3-f50c599d9e5e",
   "metadata": {},
   "source": [
    "### Extract Width & Height"
   ]
  },
  {
   "cell_type": "code",
   "execution_count": 93,
   "id": "2609fdb7-0006-4c84-8b23-17f5c46748df",
   "metadata": {},
   "outputs": [],
   "source": [
    "# Image size distribution\n",
    "image_stats_df['width'] = image_stats_df['size'].apply(lambda x: x[0] if x else None)\n",
    "image_stats_df['height'] = image_stats_df['size'].apply(lambda x: x[1] if x else None)"
   ]
  },
  {
   "cell_type": "markdown",
   "id": "6050a10e-31fa-42df-b25d-d6ce539fb98b",
   "metadata": {},
   "source": [
    "### Quick Summary Checks"
   ]
  },
  {
   "cell_type": "code",
   "execution_count": 96,
   "id": "abdc46ec-cf15-4251-9286-73f21008bae5",
   "metadata": {},
   "outputs": [
    {
     "name": "stdout",
     "output_type": "stream",
     "text": [
      "men      150\n",
      "women    150\n",
      "Name: gender, dtype: int64\n",
      "JPEG    300\n",
      "Name: format, dtype: int64\n",
      "Gender Class Proportions (%):\n",
      "men      50.0\n",
      "women    50.0\n",
      "Name: gender, dtype: float64\n",
      "Corrupted images found: 0\n"
     ]
    }
   ],
   "source": [
    "# Number of images by gender\n",
    "print(image_stats_df['gender'].value_counts())\n",
    "\n",
    "# Format breakdown\n",
    "print(image_stats_df['format'].value_counts())\n",
    "\n",
    "# Class balance check\n",
    "print(\"Gender Class Proportions (%):\")\n",
    "print(image_stats_df['gender'].value_counts(normalize=True) * 100)\n",
    "\n",
    "# Corrupted or unreadable files\n",
    "corrupted = image_stats_df[image_stats_df['format'].isnull()]\n",
    "print(f\"Corrupted images found: {len(corrupted)}\")"
   ]
  },
  {
   "cell_type": "markdown",
   "id": "49c1e7be-ca91-4106-917b-ed61e4f1f932",
   "metadata": {},
   "source": [
    "## Phase 2.2: Data Visualization"
   ]
  },
  {
   "cell_type": "code",
   "execution_count": 99,
   "id": "797eb740-b716-4af5-9b12-5363508765f5",
   "metadata": {},
   "outputs": [],
   "source": [
    "import matplotlib.pyplot as plt\n",
    "import seaborn as sns\n",
    "\n",
    "sns.set(style=\"whitegrid\")"
   ]
  },
  {
   "cell_type": "markdown",
   "id": "a1e52d14-fc2e-4a3f-8844-da5dfb2387f2",
   "metadata": {},
   "source": [
    "#### Gender Class Distribution"
   ]
  },
  {
   "cell_type": "code",
   "execution_count": 103,
   "id": "0d7f63c7-3163-4c84-b10d-303f0eb0d38e",
   "metadata": {},
   "outputs": [
    {
     "data": {
      "image/png": "[encoded data removed]",
      "text/plain": [
       "<Figure size 432x288 with 1 Axes>"
      ]
     },
     "metadata": {},
     "output_type": "display_data"
    }
   ],
   "source": [
    "# Plotting Gender Class Distribution\n",
    "plt.figure(figsize=(6, 4))\n",
    "sns.countplot(data=image_stats_df, x=\"gender\", order=image_stats_df['gender'].value_counts().index)\n",
    "plt.title(\"Gender Distribution\")\n",
    "plt.xlabel(\"Gender\")\n",
    "plt.ylabel(\"Count\")\n",
    "plt.show()"
   ]
  },
  {
   "cell_type": "markdown",
   "id": "1729673d-587e-4a42-808e-bc7f36b1cc71",
   "metadata": {},
   "source": [
    "### Image Dimension Distribution"
   ]
  },
  {
   "cell_type": "code",
   "execution_count": 108,
   "id": "e7b82084-56e2-4466-84b8-0c447d7ff1d6",
   "metadata": {},
   "outputs": [
    {
     "data": {
      "image/png": "[encoded data removed]",
      "text/plain": [
       "<Figure size 720x360 with 1 Axes>"
      ]
     },
     "metadata": {},
     "output_type": "display_data"
    }
   ],
   "source": [
    "# Plotting Image Dimension Distribution\n",
    "plt.figure(figsize=(10, 5))\n",
    "sns.histplot(image_stats_df['width'], bins=20, kde=True, color='skyblue', label='Width')\n",
    "sns.histplot(image_stats_df['height'], bins=20, kde=True, color='orange', label='Height')\n",
    "plt.title(\"Image Width and Height Distribution\")\n",
    "plt.xlabel(\"Pixels\")\n",
    "plt.legend()\n",
    "plt.tight_layout()\n",
    "plt.show()"
   ]
  },
  {
   "cell_type": "markdown",
   "id": "a9bc5348-0cc5-4939-a5fc-bce744ac5dcf",
   "metadata": {},
   "source": [
    "#### Improving Chart colors"
   ]
  },
  {
   "cell_type": "code",
   "execution_count": 115,
   "id": "467645da-ae6c-46f4-b92a-6c0e60f28f28",
   "metadata": {},
   "outputs": [
    {
     "data": {
      "image/png": "[encoded data removed]",
      "text/plain": [
       "<Figure size 720x360 with 1 Axes>"
      ]
     },
     "metadata": {},
     "output_type": "display_data"
    }
   ],
   "source": [
    "plt.figure(figsize=(10, 5))\n",
    "\n",
    "# Width: royal blue with transparency\n",
    "sns.histplot(\n",
    "    image_stats_df['width'],\n",
    "    bins=25,\n",
    "    kde=True,\n",
    "    color='#4169E1',  # RoyalBlue\n",
    "    label='Width',\n",
    "    alpha=0.6\n",
    ")\n",
    "\n",
    "# Height: dark orange with transparency\n",
    "sns.histplot(\n",
    "    image_stats_df['height'],\n",
    "    bins=25,\n",
    "    kde=True,\n",
    "    color='#FF8C00',  # DarkOrange\n",
    "    label='Height',\n",
    "    alpha=0.6\n",
    ")\n",
    "\n",
    "plt.title(\"Image Width and Height Distribution\", fontsize=14, weight='bold')\n",
    "plt.xlabel(\"Pixels\", fontsize=12)\n",
    "plt.ylabel(\"Count\", fontsize=12)\n",
    "plt.legend(title=\"Dimension\", fontsize=10)\n",
    "plt.grid(True, linestyle='--', alpha=0.3)\n",
    "plt.tight_layout()\n",
    "plt.show()"
   ]
  },
  {
   "cell_type": "markdown",
   "id": "0a9e55e6-3733-4f5b-bf61-646b3d40dfbe",
   "metadata": {},
   "source": [
    "### Brightness and Contrast Distribution"
   ]
  },
  {
   "cell_type": "code",
   "execution_count": 118,
   "id": "439b098a-d28b-4bd4-9b34-add001c41a96",
   "metadata": {},
   "outputs": [
    {
     "data": {
      "image/png": "[encoded data removed]",
      "text/plain": [
       "<Figure size 1008x360 with 2 Axes>"
      ]
     },
     "metadata": {},
     "output_type": "display_data"
    }
   ],
   "source": [
    "# Plotting Brightness & Contrast Disctibution\n",
    "fig, axes = plt.subplots(1, 2, figsize=(14, 5))\n",
    "\n",
    "# Brightness\n",
    "sns.histplot(image_stats_df['brightness'].dropna(), bins=30, ax=axes[0], color='gold')\n",
    "axes[0].set_title(\"Brightness Distribution\")\n",
    "axes[0].set_xlabel(\"Brightness (0-255)\")\n",
    "\n",
    "# Contrast\n",
    "sns.histplot(image_stats_df['contrast'].dropna(), bins=30, ax=axes[1], color='teal')\n",
    "axes[1].set_title(\"Contrast Distribution\")\n",
    "axes[1].set_xlabel(\"Standard Deviation of Pixel Values\")\n",
    "\n",
    "plt.tight_layout()\n",
    "plt.show()\n"
   ]
  },
  {
   "cell_type": "markdown",
   "id": "695e58d2-37a2-4021-9879-c8bcc8c57a44",
   "metadata": {},
   "source": [
    "### Sample Image Grid\n",
    "##### Visualizing random samples from each class"
   ]
  },
  {
   "cell_type": "code",
   "execution_count": null,
   "id": "aee57a94-2cb8-4167-97f2-a38329ad0239",
   "metadata": {},
   "outputs": [],
   "source": [
    "import random\n",
    "from PIL import Image\n",
    "\n",
    "def plot_sample_images(df, label, n=5):\n",
    "    samples = df[df['gender'] == label].sample(n)\n",
    "    fig, axes = plt.subplots(1, n, figsize=(15, 5))\n",
    "    for i, (_, row) in enumerate(samples.iterrows()):\n",
    "        img = Image.open(row['file'])\n",
    "        axes[i].imshow(img)\n",
    "        axes[i].axis('off')\n",
    "        axes[i].set_title(label)\n",
    "    plt.tight_layout()\n",
    "    plt.show()\n",
    "\n",
    "plot_sample_images(image_stats_df, 'men', n=5)\n",
    "plot_sample_images(image_stats_df, 'women', n=5)"
   ]
  },
  {
   "cell_type": "code",
   "execution_count": 1,
   "id": "5e51a129-1370-45f8-a172-8b6f8dc17a47",
   "metadata": {},
   "outputs": [],
   "source": [
    "#### The code above ran successfully. Deleted image grid for repo push"
   ]
  },
  {
   "cell_type": "markdown",
   "id": "75e7f526-f85c-4824-9aa3-a9ce9b1cacdc",
   "metadata": {},
   "source": [
    "### Phase 2.3: Data Quality Assessment\n",
    "- Identify missing or corrupted images\n",
    "- Detect outliers or mislabeled data\n",
    "- Assess lighting conditions and image clarity\n",
    "- Evaluate face detection accuracy on the dataset\n",
    "- Document data quality findings"
   ]
  },
  {
   "cell_type": "markdown",
   "id": "a7a700d1-bcfd-4ac6-86bb-01b9a60e2937",
   "metadata": {},
   "source": [
    "#### Identify missing or currupted images\n",
    "##### This has been partly done in 2.1"
   ]
  },
  {
   "cell_type": "code",
   "execution_count": 140,
   "id": "534df404-4f8a-4cd2-9385-ea79d069b828",
   "metadata": {},
   "outputs": [
    {
     "name": "stdout",
     "output_type": "stream",
     "text": [
      "Corrupted images: 0\n",
      "Index(['gender', 'file', 'format', 'size', 'mode', 'brightness', 'contrast',\n",
      "       'width', 'height'],\n",
      "      dtype='object')\n"
     ]
    },
    {
     "data": {
      "text/html": [
       "<div>\n",
       "<style scoped>\n",
       "    .dataframe tbody tr th:only-of-type {\n",
       "        vertical-align: middle;\n",
       "    }\n",
       "\n",
       "    .dataframe tbody tr th {\n",
       "        vertical-align: top;\n",
       "    }\n",
       "\n",
       "    .dataframe thead th {\n",
       "        text-align: right;\n",
       "    }\n",
       "</style>\n",
       "<table border=\"1\" class=\"dataframe\">\n",
       "  <thead>\n",
       "    <tr style=\"text-align: right;\">\n",
       "      <th></th>\n",
       "      <th>file</th>\n",
       "      <th>gender</th>\n",
       "    </tr>\n",
       "  </thead>\n",
       "  <tbody>\n",
       "  </tbody>\n",
       "</table>\n",
       "</div>"
      ],
      "text/plain": [
       "Empty DataFrame\n",
       "Columns: [file, gender]\n",
       "Index: []"
      ]
     },
     "metadata": {},
     "output_type": "display_data"
    }
   ],
   "source": [
    "# Corrupted or unreadable images\n",
    "print(f\"Corrupted images: {len(corrupted_images)}\")\n",
    "print(corrupted_images.columns)  # See what's actually in the DataFrame\n",
    "\n",
    "# Only show columns that exist\n",
    "columns_to_show = [col for col in ['file', 'gender', 'error'] if col in corrupted_images.columns]\n",
    "display(corrupted_images[columns_to_show])"
   ]
  },
  {
   "cell_type": "markdown",
   "id": "69da6dbc-a715-4d53-8849-82bf3e3bb4ea",
   "metadata": {},
   "source": [
    "#### Detect Outliers or Mislabeled data\n",
    "##### Brightness, Contrast, Size"
   ]
  },
  {
   "cell_type": "code",
   "execution_count": 145,
   "id": "e269b3a9-a40d-4ee6-8176-ed12fdc4cfed",
   "metadata": {},
   "outputs": [
    {
     "name": "stdout",
     "output_type": "stream",
     "text": [
      "Outliers by brightness: 0\n",
      "Outliers by contrast: 21\n",
      "Unusual sizes: 30\n"
     ]
    }
   ],
   "source": [
    "# Check brightness and contrast extremes\n",
    "outlier_brightness = image_stats_df[\n",
    "    (image_stats_df['brightness'] < 20) | \n",
    "    (image_stats_df['brightness'] > 240)\n",
    "]\n",
    "\n",
    "outlier_contrast = image_stats_df[\n",
    "    (image_stats_df['contrast'] < 5) | \n",
    "    (image_stats_df['contrast'] > 80)\n",
    "]\n",
    "\n",
    "# Unusual sizes\n",
    "unusual_size = image_stats_df[\n",
    "    (image_stats_df['width'] > 5000) | \n",
    "    (image_stats_df['height'] > 5000) |\n",
    "    (image_stats_df['width'] < 200) |\n",
    "    (image_stats_df['height'] < 200)\n",
    "]\n",
    "\n",
    "print(f\"Outliers by brightness: {len(outlier_brightness)}\")\n",
    "print(f\"Outliers by contrast: {len(outlier_contrast)}\")\n",
    "print(f\"Unusual sizes: {len(unusual_size)}\")"
   ]
  },
  {
   "cell_type": "markdown",
   "id": "a460b1ac-f8e2-4a3e-9872-988fda9e26be",
   "metadata": {},
   "source": [
    "#### Assess Lighting and Clarity (via Brightness/Contrast)"
   ]
  },
  {
   "cell_type": "code",
   "execution_count": 148,
   "id": "e52a7333-8485-429b-a207-9bcdbfe9bfbb",
   "metadata": {},
   "outputs": [
    {
     "name": "stdout",
     "output_type": "stream",
     "text": [
      "Average Brightness: 128.69906351532103\n",
      "Average Contrast: 60.55265457141742\n",
      "Very dark images: 0\n",
      "Overexposed images: 0\n"
     ]
    }
   ],
   "source": [
    "print(\"Average Brightness:\", image_stats_df['brightness'].mean())\n",
    "print(\"Average Contrast:\", image_stats_df['contrast'].mean())\n",
    "\n",
    "# Very dark or overexposed\n",
    "dark_images = image_stats_df[image_stats_df['brightness'] < 30]\n",
    "bright_images = image_stats_df[image_stats_df['brightness'] > 230]\n",
    "\n",
    "print(f\"Very dark images: {len(dark_images)}\")\n",
    "print(f\"Overexposed images: {len(bright_images)}\")"
   ]
  },
  {
   "cell_type": "markdown",
   "id": "97ee0d96-6d41-4aed-bb0c-ef35fec4b96f",
   "metadata": {},
   "source": [
    "#### Evaluate Face Detection Accuracy "
   ]
  },
  {
   "cell_type": "code",
   "execution_count": 167,
   "id": "3da06dc8-356d-43a8-8567-f44bdea3a3e3",
   "metadata": {},
   "outputs": [
    {
     "name": "stdout",
     "output_type": "stream",
     "text": [
      "Cascade file already exists.\n"
     ]
    }
   ],
   "source": [
    "import urllib.request\n",
    "import cv2\n",
    "\n",
    "# Download the Haar cascade XML file for face detection\n",
    "cascade_url = \"https://github.com/opencv/opencv/raw/master/data/haarcascades/haarcascade_frontalface_default.xml\"\n",
    "cascade_path = \"haarcascade_frontalface_default.xml\"\n",
    "\n",
    "# Download only if not already present\n",
    "if not os.path.exists(cascade_path):\n",
    "    urllib.request.urlretrieve(cascade_url, cascade_path)\n",
    "    print(\"Cascade file downloaded.\")\n",
    "else:\n",
    "    print(\"Cascade file already exists.\")\n",
    "\n",
    "# Load into OpenCV\n",
    "face_cascade = cv2.CascadeClassifier(cascade_path)\n"
   ]
  },
  {
   "cell_type": "code",
   "execution_count": 173,
   "id": "26ef683d-93d2-4901-8eb1-292031c744ea",
   "metadata": {},
   "outputs": [],
   "source": [
    "def detect_faces_opencv(image_path):\n",
    "    img = cv2.imread('/Users/bolade/My_GH_Projects/gender_detection/data/test/women/128.jpg')\n",
    "    if img is None:\n",
    "        return -1  # Unreadable image\n",
    "    gray = cv2.cvtColor(img, cv2.COLOR_BGR2GRAY)\n",
    "    faces = face_cascade.detectMultiScale(gray, scaleFactor=1.1, minNeighbors=5)\n",
    "    return len(faces)"
   ]
  },
  {
   "cell_type": "code",
   "execution_count": 177,
   "id": "b3dc4642-2e22-41f8-8561-b28f82b6f0b5",
   "metadata": {},
   "outputs": [
    {
     "name": "stderr",
     "output_type": "stream",
     "text": [
      "Invalid SOS parameters for sequential JPEG\n",
      "Invalid SOS parameters for sequential JPEG\n",
      "Invalid SOS parameters for sequential JPEG\n",
      "Invalid SOS parameters for sequential JPEG\n",
      "Invalid SOS parameters for sequential JPEG\n"
     ]
    },
    {
     "name": "stdout",
     "output_type": "stream",
     "text": [
      "No faces detected in: 0 out of 5\n"
     ]
    }
   ],
   "source": [
    "sample_df = image_stats_df.sample(5, random_state=42)  # adjust as needed\n",
    "\n",
    "sample_df['faces_detected'] = sample_df['file'].apply(lambda x: detect_faces_opencv(x) if os.path.exists(x) else -1)\n",
    "\n",
    "print(f\"No faces detected in: {(sample_df['faces_detected'] == 0).sum()} out of {len(sample_df)}\")"
   ]
  },
  {
   "cell_type": "code",
   "execution_count": 179,
   "id": "a94d6a3f-bad8-4e2b-92c5-ecbc01d98d63",
   "metadata": {},
   "outputs": [
    {
     "name": "stderr",
     "output_type": "stream",
     "text": [
      "Invalid SOS parameters for sequential JPEG\n",
      "Invalid SOS parameters for sequential JPEG\n",
      "Invalid SOS parameters for sequential JPEG\n",
      "Invalid SOS parameters for sequential JPEG\n",
      "Invalid SOS parameters for sequential JPEG\n",
      "Invalid SOS parameters for sequential JPEG\n",
      "Invalid SOS parameters for sequential JPEG\n",
      "Invalid SOS parameters for sequential JPEG\n",
      "Invalid SOS parameters for sequential JPEG\n",
      "Invalid SOS parameters for sequential JPEG\n",
      "Invalid SOS parameters for sequential JPEG\n",
      "Invalid SOS parameters for sequential JPEG\n",
      "Invalid SOS parameters for sequential JPEG\n",
      "Invalid SOS parameters for sequential JPEG\n",
      "Invalid SOS parameters for sequential JPEG\n",
      "Invalid SOS parameters for sequential JPEG\n",
      "Invalid SOS parameters for sequential JPEG\n",
      "Invalid SOS parameters for sequential JPEG\n",
      "Invalid SOS parameters for sequential JPEG\n",
      "Invalid SOS parameters for sequential JPEG\n",
      "Invalid SOS parameters for sequential JPEG\n",
      "Invalid SOS parameters for sequential JPEG\n",
      "Invalid SOS parameters for sequential JPEG\n",
      "Invalid SOS parameters for sequential JPEG\n",
      "Invalid SOS parameters for sequential JPEG\n",
      "Invalid SOS parameters for sequential JPEG\n",
      "Invalid SOS parameters for sequential JPEG\n",
      "Invalid SOS parameters for sequential JPEG\n",
      "Invalid SOS parameters for sequential JPEG\n",
      "Invalid SOS parameters for sequential JPEG\n",
      "Invalid SOS parameters for sequential JPEG\n",
      "Invalid SOS parameters for sequential JPEG\n",
      "Invalid SOS parameters for sequential JPEG\n",
      "Invalid SOS parameters for sequential JPEG\n",
      "Invalid SOS parameters for sequential JPEG\n",
      "Invalid SOS parameters for sequential JPEG\n",
      "Invalid SOS parameters for sequential JPEG\n",
      "Invalid SOS parameters for sequential JPEG\n",
      "Invalid SOS parameters for sequential JPEG\n",
      "Invalid SOS parameters for sequential JPEG\n",
      "Invalid SOS parameters for sequential JPEG\n",
      "Invalid SOS parameters for sequential JPEG\n",
      "Invalid SOS parameters for sequential JPEG\n",
      "Invalid SOS parameters for sequential JPEG\n",
      "Invalid SOS parameters for sequential JPEG\n",
      "Invalid SOS parameters for sequential JPEG\n",
      "Invalid SOS parameters for sequential JPEG\n",
      "Invalid SOS parameters for sequential JPEG\n",
      "Invalid SOS parameters for sequential JPEG\n",
      "Invalid SOS parameters for sequential JPEG\n",
      "Invalid SOS parameters for sequential JPEG\n",
      "Invalid SOS parameters for sequential JPEG\n",
      "Invalid SOS parameters for sequential JPEG\n",
      "Invalid SOS parameters for sequential JPEG\n",
      "Invalid SOS parameters for sequential JPEG\n",
      "Invalid SOS parameters for sequential JPEG\n",
      "Invalid SOS parameters for sequential JPEG\n",
      "Invalid SOS parameters for sequential JPEG\n",
      "Invalid SOS parameters for sequential JPEG\n",
      "Invalid SOS parameters for sequential JPEG\n",
      "Invalid SOS parameters for sequential JPEG\n",
      "Invalid SOS parameters for sequential JPEG\n",
      "Invalid SOS parameters for sequential JPEG\n",
      "Invalid SOS parameters for sequential JPEG\n",
      "Invalid SOS parameters for sequential JPEG\n",
      "Invalid SOS parameters for sequential JPEG\n",
      "Invalid SOS parameters for sequential JPEG\n",
      "Invalid SOS parameters for sequential JPEG\n",
      "Invalid SOS parameters for sequential JPEG\n",
      "Invalid SOS parameters for sequential JPEG\n",
      "Invalid SOS parameters for sequential JPEG\n",
      "Invalid SOS parameters for sequential JPEG\n",
      "Invalid SOS parameters for sequential JPEG\n",
      "Invalid SOS parameters for sequential JPEG\n",
      "Invalid SOS parameters for sequential JPEG\n",
      "Invalid SOS parameters for sequential JPEG\n",
      "Invalid SOS parameters for sequential JPEG\n",
      "Invalid SOS parameters for sequential JPEG\n",
      "Invalid SOS parameters for sequential JPEG\n",
      "Invalid SOS parameters for sequential JPEG\n",
      "Invalid SOS parameters for sequential JPEG\n",
      "Invalid SOS parameters for sequential JPEG\n",
      "Invalid SOS parameters for sequential JPEG\n",
      "Invalid SOS parameters for sequential JPEG\n",
      "Invalid SOS parameters for sequential JPEG\n",
      "Invalid SOS parameters for sequential JPEG\n",
      "Invalid SOS parameters for sequential JPEG\n",
      "Invalid SOS parameters for sequential JPEG\n",
      "Invalid SOS parameters for sequential JPEG\n",
      "Invalid SOS parameters for sequential JPEG\n",
      "Invalid SOS parameters for sequential JPEG\n",
      "Invalid SOS parameters for sequential JPEG\n",
      "Invalid SOS parameters for sequential JPEG\n",
      "Invalid SOS parameters for sequential JPEG\n",
      "Invalid SOS parameters for sequential JPEG\n",
      "Invalid SOS parameters for sequential JPEG\n",
      "Invalid SOS parameters for sequential JPEG\n",
      "Invalid SOS parameters for sequential JPEG\n",
      "Invalid SOS parameters for sequential JPEG\n",
      "Invalid SOS parameters for sequential JPEG\n"
     ]
    },
    {
     "name": "stdout",
     "output_type": "stream",
     "text": [
      "No faces detected in: 0 out of 100\n"
     ]
    }
   ],
   "source": [
    "sample_df = image_stats_df.sample(100, random_state=42)\n",
    "sample_df['faces_detected'] = sample_df['file'].apply(lambda x: detect_faces_opencv(x) if os.path.exists(x) else -1)\n",
    "print(f\"No faces detected in: {(sample_df['faces_detected'] == 0).sum()} out of {len(sample_df)}\")"
   ]
  },
  {
   "cell_type": "markdown",
   "id": "74070391-9c1a-42c8-a963-a20c4e59b8a9",
   "metadata": {},
   "source": [
    "#### Visualize Images with No Face Detected"
   ]
  },
  {
   "cell_type": "code",
   "execution_count": 1,
   "id": "37fe4711-fa68-47c2-87e2-aa4edece4cdb",
   "metadata": {},
   "outputs": [
    {
     "ename": "NameError",
     "evalue": "name 'sample_df' is not defined",
     "output_type": "error",
     "traceback": [
      "\u001b[0;31m---------------------------------------------------------------------------\u001b[0m",
      "\u001b[0;31mNameError\u001b[0m                                 Traceback (most recent call last)",
      "Cell \u001b[0;32mIn[1], line 5\u001b[0m\n\u001b[1;32m      2\u001b[0m \u001b[38;5;28;01mimport\u001b[39;00m\u001b[38;5;250m \u001b[39m\u001b[38;5;21;01mmatplotlib\u001b[39;00m\u001b[38;5;21;01m.\u001b[39;00m\u001b[38;5;21;01mpyplot\u001b[39;00m\u001b[38;5;250m \u001b[39m\u001b[38;5;28;01mas\u001b[39;00m\u001b[38;5;250m \u001b[39m\u001b[38;5;21;01mplt\u001b[39;00m\n\u001b[1;32m      4\u001b[0m \u001b[38;5;66;03m# Filter DataFrame for failed face detections\u001b[39;00m\n\u001b[0;32m----> 5\u001b[0m no_face_df \u001b[38;5;241m=\u001b[39m \u001b[43msample_df\u001b[49m[sample_df[\u001b[38;5;124m'\u001b[39m\u001b[38;5;124mfaces_detected\u001b[39m\u001b[38;5;124m'\u001b[39m] \u001b[38;5;241m==\u001b[39m \u001b[38;5;241m0\u001b[39m]\n\u001b[1;32m      7\u001b[0m \u001b[38;5;66;03m# Display first 5\u001b[39;00m\n\u001b[1;32m      8\u001b[0m \u001b[38;5;28;01mfor\u001b[39;00m i, row \u001b[38;5;129;01min\u001b[39;00m no_face_df\u001b[38;5;241m.\u001b[39mhead(\u001b[38;5;241m5\u001b[39m)\u001b[38;5;241m.\u001b[39miterrows():\n",
      "\u001b[0;31mNameError\u001b[0m: name 'sample_df' is not defined"
     ]
    }
   ],
   "source": [
    "from PIL import Image\n",
    "import matplotlib.pyplot as plt\n",
    "\n",
    "# Filter DataFrame for failed face detections\n",
    "no_face_df = sample_df[sample_df['faces_detected'] == 0]\n",
    "\n",
    "# Display first 5\n",
    "for i, row in no_face_df.head(5).iterrows():\n",
    "    try:\n",
    "        img = Image.open(row['file'])\n",
    "        plt.figure(figsize=(4, 4))\n",
    "        plt.imshow(img)\n",
    "        plt.axis('off')\n",
    "        plt.title(f\"No face detected\\n({row['gender']})\")\n",
    "        plt.show()\n",
    "    except Exception as e:\n",
    "        print(f\"Failed to open image: {row['file']} - {e}\")\n"
   ]
  },
  {
   "cell_type": "code",
   "execution_count": null,
   "id": "59a6f5b6",
   "metadata": {},
   "outputs": [],
   "source": []
  }
 ],
 "metadata": {
  "kernelspec": {
   "display_name": "venv",
   "language": "python",
   "name": "python3"
  },
  "language_info": {
   "codemirror_mode": {
    "name": "ipython",
    "version": 3
   },
   "file_extension": ".py",
   "mimetype": "text/x-python",
   "name": "python",
   "nbconvert_exporter": "python",
   "pygments_lexer": "ipython3",
   "version": "3.9.21"
  }
 },
 "nbformat": 4,
 "nbformat_minor": 5
}
